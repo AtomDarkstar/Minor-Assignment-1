{
 "cells": [
  {
   "cell_type": "markdown",
   "id": "2ad449b5",
   "metadata": {},
   "source": [
    "# Given Data Set(Or Persons in the Network)"
   ]
  },
  {
   "cell_type": "code",
   "execution_count": 19,
   "id": "5a9bec6f",
   "metadata": {},
   "outputs": [],
   "source": [
    "users = [\n",
    "    { \"id\": 0, \"name\": \"Hero\" },\n",
    "    { \"id\": 1, \"name\": \"Dunn\" },\n",
    "    { \"id\": 2, \"name\": \"Sue\" },\n",
    "    { \"id\": 3, \"name\": \"Chi\" },\n",
    "    { \"id\": 4, \"name\": \"Thor\" },\n",
    "    { \"id\": 5, \"name\": \"Clive\" },\n",
    "    { \"id\": 6, \"name\": \"Hicks\" },\n",
    "    { \"id\": 7, \"name\": \"Devin\" },\n",
    "    { \"id\": 8, \"name\": \"Kate\" },\n",
    "    { \"id\": 9, \"name\": \"Klein\" }\n",
    "]"
   ]
  },
  {
   "cell_type": "code",
   "execution_count": 20,
   "id": "12c00e56",
   "metadata": {},
   "outputs": [],
   "source": [
    "#all the Freind ship pairs\n",
    "friendship_pairs = [(0, 1), (0, 2), (1, 2), (1, 3), (2, 3), (3, 4),\n",
    "                    (4, 5), (5, 6), (5, 7), (6, 8), (7, 8), (8, 9)]"
   ]
  },
  {
   "cell_type": "code",
   "execution_count": 21,
   "id": "8f95a8d3",
   "metadata": {},
   "outputs": [
    {
     "data": {
      "text/plain": [
       "{0: [], 1: [], 2: [], 3: [], 4: [], 5: [], 6: [], 7: [], 8: [], 9: []}"
      ]
     },
     "execution_count": 21,
     "metadata": {},
     "output_type": "execute_result"
    }
   ],
   "source": [
    "\"\"\"\n",
    "1. For Friend ship netwoek visualization we need some Visualization tools\n",
    "   but for now we stick with Python Dictionaries to represent the network\n",
    "\"\"\"\n",
    "friendship = {user[\"id\"]:[] for user in users}\n",
    "friendship"
   ]
  },
  {
   "cell_type": "code",
   "execution_count": 22,
   "id": "621891ac",
   "metadata": {},
   "outputs": [],
   "source": [
    "\"\"\"\n",
    "WARNING :-DO not RE RUM this segment of code only agin.\n",
    "            It will add the friend list again and again.\n",
    "            (To prevent this problem Tuples can be used \n",
    "            instead of list)\n",
    "\"\"\"\n",
    "for i,j in friendship_pairs:\n",
    "    friendship[i].append(j);\n",
    "    friendship[j].append(i);"
   ]
  },
  {
   "cell_type": "code",
   "execution_count": 18,
   "id": "4ddf7f40",
   "metadata": {},
   "outputs": [
    {
     "data": {
      "text/plain": [
       "{0: [1, 2],\n",
       " 1: [0, 2, 3],\n",
       " 2: [0, 1, 3],\n",
       " 3: [1, 2, 4],\n",
       " 4: [3, 5],\n",
       " 5: [4, 6, 7],\n",
       " 6: [5, 8],\n",
       " 7: [5, 8],\n",
       " 8: [6, 7, 9],\n",
       " 9: [8]}"
      ]
     },
     "execution_count": 18,
     "metadata": {},
     "output_type": "execute_result"
    }
   ],
   "source": [
    "#The following is the Network of each person and his friend circle\n",
    "friendship"
   ]
  },
  {
   "cell_type": "code",
   "execution_count": 36,
   "id": "7319b28e",
   "metadata": {},
   "outputs": [
    {
     "name": "stdout",
     "output_type": "stream",
     "text": [
      "(TotalConnections,AverageConnections)\n"
     ]
    },
    {
     "data": {
      "text/plain": [
       "(24, 2.4)"
      ]
     },
     "execution_count": 36,
     "metadata": {},
     "output_type": "execute_result"
    }
   ],
   "source": [
    "\"\"\"\n",
    "2. total Connections and Average Comnnections\n",
    "\"\"\"\n",
    "# Total Connections\n",
    "def number_of_friends(user):\n",
    "    return len(friendship[user[\"id\"]])\n",
    "total_connections = sum(number_of_friends(user) for user in users)\n",
    "#average connections\n",
    "avereage_connections = total_connections/len(friendship)\n",
    "print(\"(TotalConnections,AverageConnections)\")\n",
    "total_connections,avereage_connections"
   ]
  },
  {
   "cell_type": "code",
   "execution_count": 37,
   "id": "35c73812",
   "metadata": {},
   "outputs": [
    {
     "data": {
      "text/plain": [
       "[(1, 3),\n",
       " (2, 3),\n",
       " (3, 3),\n",
       " (5, 3),\n",
       " (8, 3),\n",
       " (0, 2),\n",
       " (4, 2),\n",
       " (6, 2),\n",
       " (7, 2),\n",
       " (9, 1)]"
      ]
     },
     "execution_count": 37,
     "metadata": {},
     "output_type": "execute_result"
    }
   ],
   "source": [
    "\"\"\"\n",
    "    3. Sort by Most Friends to Least Friends\n",
    "\"\"\"\n",
    "most_to_least_friends = [(user[\"id\"],number_of_friends(user)) for user in users]\n",
    "most_to_least_friends.sort(key = lambda x:x[1],reverse = True)\n",
    "most_to_least_friends"
   ]
  },
  {
   "cell_type": "code",
   "execution_count": 38,
   "id": "1df45b71",
   "metadata": {},
   "outputs": [
    {
     "data": {
      "text/plain": [
       "'\\n4. Find Friends of Friends. Doubt\\n'"
      ]
     },
     "execution_count": 38,
     "metadata": {},
     "output_type": "execute_result"
    }
   ],
   "source": [
    "\"\"\"\n",
    "4. Find Friends of Friends. Doubt\n",
    "\"\"\""
   ]
  },
  {
   "cell_type": "code",
   "execution_count": null,
   "id": "6e80eba4",
   "metadata": {},
   "outputs": [],
   "source": []
  }
 ],
 "metadata": {
  "kernelspec": {
   "display_name": "Python 3 (ipykernel)",
   "language": "python",
   "name": "python3"
  },
  "language_info": {
   "codemirror_mode": {
    "name": "ipython",
    "version": 3
   },
   "file_extension": ".py",
   "mimetype": "text/x-python",
   "name": "python",
   "nbconvert_exporter": "python",
   "pygments_lexer": "ipython3",
   "version": "3.10.9"
  }
 },
 "nbformat": 4,
 "nbformat_minor": 5
}
