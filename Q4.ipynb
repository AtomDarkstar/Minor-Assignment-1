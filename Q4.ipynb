{
 "cells": [
  {
   "cell_type": "code",
   "execution_count": 5,
   "id": "9144bc8b",
   "metadata": {},
   "outputs": [],
   "source": [
    "#import random module of python\n",
    "import random\n",
    "def password_gen(length):\n",
    "    valueset = \"abcdefghijklmnopqrstuvwxyz0123456789\"\n",
    "    return ''.join(random.choice(valueset)for i in range(length))"
   ]
  },
  {
   "cell_type": "code",
   "execution_count": 6,
   "id": "13b62faf",
   "metadata": {},
   "outputs": [
    {
     "name": "stdout",
     "output_type": "stream",
     "text": [
      "Wnter the length of password5\n",
      "enter the number of password to be generated3\n"
     ]
    }
   ],
   "source": [
    "length = int(input(\"Wnter the length of password\"))\n",
    "count = int(input(\"enter the number of password to be generated\"))"
   ]
  },
  {
   "cell_type": "code",
   "execution_count": 7,
   "id": "dbd85efb",
   "metadata": {},
   "outputs": [],
   "source": [
    "passwords = [password_gen(length) for i in range(count)]"
   ]
  },
  {
   "cell_type": "code",
   "execution_count": 8,
   "id": "c93a202e",
   "metadata": {},
   "outputs": [
    {
     "data": {
      "text/plain": [
       "['ux0rh', 'pfba4', '7heud']"
      ]
     },
     "execution_count": 8,
     "metadata": {},
     "output_type": "execute_result"
    }
   ],
   "source": [
    "passwords"
   ]
  },
  {
   "cell_type": "code",
   "execution_count": null,
   "id": "f1838f5f",
   "metadata": {},
   "outputs": [],
   "source": []
  }
 ],
 "metadata": {
  "kernelspec": {
   "display_name": "Python 3 (ipykernel)",
   "language": "python",
   "name": "python3"
  },
  "language_info": {
   "codemirror_mode": {
    "name": "ipython",
    "version": 3
   },
   "file_extension": ".py",
   "mimetype": "text/x-python",
   "name": "python",
   "nbconvert_exporter": "python",
   "pygments_lexer": "ipython3",
   "version": "3.10.9"
  }
 },
 "nbformat": 4,
 "nbformat_minor": 5
}
