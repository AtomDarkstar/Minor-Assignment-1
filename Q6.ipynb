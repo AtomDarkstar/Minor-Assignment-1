{
 "cells": [
  {
   "cell_type": "code",
   "execution_count": 6,
   "id": "e7378ee2",
   "metadata": {},
   "outputs": [
    {
     "name": "stdout",
     "output_type": "stream",
     "text": [
      "Enter the String Separated by spacesapple cherry cherry mangoes mangoes mangoes\n",
      "MStringList1: ['cherry', 'cherry', 'mangoes', 'mangoes', 'mangoes']\n",
      "cherry  occurs an even( 2 ) number of times in StringList1\n",
      "cherry  occurs an even( 2 ) number of times in StringList1\n",
      "mangoes  occurs occurs an odd( 3 ) number of times in StringList1\n",
      "mangoes  occurs occurs an odd( 3 ) number of times in StringList1\n",
      "mangoes  occurs occurs an odd( 3 ) number of times in StringList1\n",
      "Enter a word to remove from StringList1: mangoes 2\n",
      "Enter the occurance number of the string you awant to remove 2\n",
      "StringList1 after removing 2nd occurrence of mangoes 2 : ['apple', 'cherry', 'cherry', 'mangoes', 'mangoes', 'mangoes']\n"
     ]
    }
   ],
   "source": [
    "StringList1 = input(\"Enter the String Separated by spaces\").split()\n",
    "MStringList1 = [str for str in StringList1 if StringList1.count(str) >= 2]\n",
    "\n",
    "print(\"MStringList1:\", MStringList1)\n",
    "\n",
    "#a. \n",
    "for item in MStringList1:\n",
    "    count = StringList1.count(item)\n",
    "    if count % 2 == 0:\n",
    "        print(item,\" occurs an even(\",count, \") number of times in StringList1\")\n",
    "    else:\n",
    "        print(item,\" occurs occurs an odd(\",count, \") number of times in StringList1\")\n",
    "\n",
    "\n",
    "#b.\n",
    "word_to_remove = input(\"Enter a word to remove from StringList1: \")\n",
    "occount =int(input(\"Enter the occurance number of the string you awant to remove \"))\n",
    "count = 0\n",
    "for i in range(len(StringList1)):\n",
    "    if StringList1[i] == word_to_remove:\n",
    "        count += 1\n",
    "        if count >= occount:\n",
    "            del StringList1[i]\n",
    "            break\n",
    "\n",
    "print(\"StringList1 after removing\",occount,\" occurrence of\", word_to_remove, \":\", StringList1)\n"
   ]
  },
  {
   "cell_type": "code",
   "execution_count": null,
   "id": "ded55fdd",
   "metadata": {},
   "outputs": [],
   "source": []
  }
 ],
 "metadata": {
  "kernelspec": {
   "display_name": "Python 3 (ipykernel)",
   "language": "python",
   "name": "python3"
  },
  "language_info": {
   "codemirror_mode": {
    "name": "ipython",
    "version": 3
   },
   "file_extension": ".py",
   "mimetype": "text/x-python",
   "name": "python",
   "nbconvert_exporter": "python",
   "pygments_lexer": "ipython3",
   "version": "3.10.9"
  }
 },
 "nbformat": 4,
 "nbformat_minor": 5
}
